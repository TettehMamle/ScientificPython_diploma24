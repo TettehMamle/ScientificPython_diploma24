{
 "cells": [
  {
   "cell_type": "code",
   "execution_count": 6,
   "id": "36d1603c-000e-439e-8d69-9fa5df157609",
   "metadata": {},
   "outputs": [
    {
     "ename": "IndentationError",
     "evalue": "unexpected indent (469898137.py, line 6)",
     "output_type": "error",
     "traceback": [
      "\u001b[1;36m  Cell \u001b[1;32mIn[6], line 6\u001b[1;36m\u001b[0m\n\u001b[1;33m    discri = b**2-4*a*c\u001b[0m\n\u001b[1;37m    ^\u001b[0m\n\u001b[1;31mIndentationError\u001b[0m\u001b[1;31m:\u001b[0m unexpected indent\n"
     ]
    }
   ],
   "source": [
    "def interactive_quadratic(a,b,c):\n",
    "    \"\"\"prompt the user for coefficients a,b,c then\"\"\"\n",
    "a = str(input(\"a\"))\n",
    "b = str(input(\"b\"))\n",
    "c = str(input(\"c\"))\n",
    "    discri = b**2-4*a*c\n",
    "    if discri >= 0:\n",
    "        return (-b + ((discri)**(0.5)))/(2*a), (-b - ((discri)**(0.5)))/(2*a)\n",
    "\n",
    "    else: \n",
    "        print(\"No solutions\")\n",
    "print(interactive_quadratic(a,b,c))    \n",
    "interactive_quadratic(a,b,c)"
   ]
  },
  {
   "cell_type": "code",
   "execution_count": null,
   "id": "a3dc5db6-a261-4e5d-a116-eafebee78380",
   "metadata": {},
   "outputs": [],
   "source": []
  }
 ],
 "metadata": {
  "kernelspec": {
   "display_name": "Python 3 (ipykernel)",
   "language": "python",
   "name": "python3"
  },
  "language_info": {
   "codemirror_mode": {
    "name": "ipython",
    "version": 3
   },
   "file_extension": ".py",
   "mimetype": "text/x-python",
   "name": "python",
   "nbconvert_exporter": "python",
   "pygments_lexer": "ipython3",
   "version": "3.11.7"
  }
 },
 "nbformat": 4,
 "nbformat_minor": 5
}
