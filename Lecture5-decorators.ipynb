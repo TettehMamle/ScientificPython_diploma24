{
 "cells": [
  {
   "cell_type": "markdown",
   "metadata": {},
   "source": [
    "### **Decorators**"
   ]
  },
  {
   "cell_type": "markdown",
   "metadata": {},
   "source": [
    "Decorators are functions used to modify other functions, that is allowing the user to add new functionality to an existing object without modifying its structure. \n",
    "\n",
    "Let's start from an example of function that has another function as an argument:"
   ]
  },
  {
   "cell_type": "code",
   "execution_count": 1,
   "metadata": {},
   "outputs": [
    {
     "name": "stdout",
     "output_type": "stream",
     "text": [
      "-21\n"
     ]
    }
   ],
   "source": [
    "def change_sign(f,x):\n",
    "    return -f(x)\n",
    "\n",
    "def my_f(x):\n",
    "    return 7*x\n",
    "\n",
    "x=3\n",
    "print(change_sign(my_f,x))"
   ]
  },
  {
   "cell_type": "markdown",
   "metadata": {},
   "source": [
    "What if the we have more than one argument?"
   ]
  },
  {
   "cell_type": "code",
   "execution_count": 2,
   "metadata": {},
   "outputs": [
    {
     "name": "stdout",
     "output_type": "stream",
     "text": [
      "-21\n",
      "-12\n"
     ]
    }
   ],
   "source": [
    "def change_sign(f,*args, **kwargs): #kwargs stands for keyword arguments\n",
    "    return -f(*args, **kwargs)\n",
    "\n",
    "def product(x,y):\n",
    "    return x*y\n",
    "\n",
    "y=4\n",
    "\n",
    "print(change_sign(my_f,x))\n",
    "print(change_sign(product,x,y))"
   ]
  },
  {
   "cell_type": "markdown",
   "metadata": {},
   "source": [
    "This is a bit ugly though. Let's make the `change_sign` function return a function rather than the output. To do this, we need to create another, wrapping function inside `change_sign`."
   ]
  },
  {
   "cell_type": "code",
   "execution_count": 3,
   "metadata": {
    "scrolled": true
   },
   "outputs": [
    {
     "name": "stdout",
     "output_type": "stream",
     "text": [
      "-21\n"
     ]
    }
   ],
   "source": [
    "def change_sign(f):\n",
    "    def wrapper(*args, **kwargs):\n",
    "        return -f(*args, **kwargs)\n",
    "    return wrapper\n",
    "\n",
    "minus_my_f = change_sign(my_f)\n",
    "\n",
    "print(minus_my_f(x))\n"
   ]
  },
  {
   "cell_type": "markdown",
   "metadata": {},
   "source": [
    "Now we have a function that will modify any function to output the opposite sign value. However, we probably woudln't want to have to redefine all the functions we might need to use the change sign on. That's where decorator syntax comes in:"
   ]
  },
  {
   "cell_type": "code",
   "execution_count": 4,
   "metadata": {},
   "outputs": [
    {
     "name": "stdout",
     "output_type": "stream",
     "text": [
      "-21\n",
      "-12\n"
     ]
    }
   ],
   "source": [
    "def change_sign(func):\n",
    "    def wrapper(*args, **kwargs):\n",
    "        return -func(*args, **kwargs)\n",
    "    return wrapper\n",
    "\n",
    "@change_sign\n",
    "def my_f(x):\n",
    "    return 7*x\n",
    "\n",
    "@change_sign\n",
    "def product(x,y):\n",
    "    return x*y\n",
    "\n",
    "print(my_f(x))\n",
    "print(product(x,y))\n"
   ]
  },
  {
   "cell_type": "markdown",
   "metadata": {},
   "source": [
    "The only problem we have now concerns the help:"
   ]
  },
  {
   "cell_type": "code",
   "execution_count": 5,
   "metadata": {},
   "outputs": [
    {
     "name": "stdout",
     "output_type": "stream",
     "text": [
      "Help on function wrapper in module __main__:\n",
      "\n",
      "wrapper(*args, **kwargs)\n",
      "\n",
      "Help on function wrapper in module __main__:\n",
      "\n",
      "wrapper(*args, **kwargs)\n",
      "\n"
     ]
    }
   ],
   "source": [
    "help(my_f)\n",
    "help(product)"
   ]
  },
  {
   "cell_type": "markdown",
   "metadata": {},
   "source": [
    "We can fix this by using a decorator from the functools package"
   ]
  },
  {
   "cell_type": "code",
   "execution_count": 6,
   "metadata": {},
   "outputs": [
    {
     "name": "stdout",
     "output_type": "stream",
     "text": [
      "Help on function my_f in module __main__:\n",
      "\n",
      "my_f(x)\n",
      "    hjhjhj\n",
      "\n",
      "Help on function product in module __main__:\n",
      "\n",
      "product(x, y)\n",
      "\n"
     ]
    }
   ],
   "source": [
    "import functools\n",
    "\n",
    "def change_sign(func):\n",
    "    @functools.wraps(func)\n",
    "    def wrapper(*args, **kwargs):\n",
    "        return -func(*args, **kwargs)\n",
    "    return wrapper\n",
    "\n",
    "@change_sign\n",
    "def my_f(x):\n",
    "    \"hjhjhj\"\n",
    "    return 7*x\n",
    "\n",
    "@change_sign\n",
    "def product(x,y):\n",
    "    return x*y\n",
    "\n",
    "help(my_f)\n",
    "help(product)\n"
   ]
  },
  {
   "cell_type": "markdown",
   "metadata": {},
   "source": [
    "Here is one very useful example of the use of the decorators:"
   ]
  },
  {
   "cell_type": "code",
   "execution_count": 7,
   "metadata": {},
   "outputs": [
    {
     "name": "stdout",
     "output_type": "stream",
     "text": [
      "Calling my_f with args: 2 and kwargs: \n",
      "Run function: my_f, which output: 14\n",
      "14\n"
     ]
    }
   ],
   "source": [
    "debug_flag = True\n",
    "\n",
    "def debug(func):\n",
    "    @functools.wraps(func)\n",
    "    def wrapper(*args, **kwargs):\n",
    "        if debug_flag:\n",
    "            arguments = [f\"{a}\" for a in args]\n",
    "            karguments = [f\"{k}={v}\" for k,v in kwargs.items()]\n",
    "            name = func.__name__\n",
    "            print(\"Calling \"+name+\" with args: \"+\", \".join(arguments)+\" and kwargs: \"+\", \".join(karguments))\n",
    "            value = func(*args, **kwargs)\n",
    "            print(\"Run function: \"+name+\", which output: \"+repr(value))\n",
    "            return value\n",
    "        else:\n",
    "            return func(*args, **kwargs)\n",
    "    return wrapper\n",
    "\n",
    "@debug\n",
    "def my_f(x):\n",
    "    return 7*x\n",
    "\n",
    "print(my_f(2))"
   ]
  },
  {
   "cell_type": "code",
   "execution_count": 31,
   "metadata": {},
   "outputs": [
    {
     "name": "stdout",
     "output_type": "stream",
     "text": [
      "[1, 2, 3]\n"
     ]
    }
   ],
   "source": [
    "import functools\n",
    "def check_empty(func):\n",
    "    @functools.wraps(func)\n",
    "    def wrapper(arg):\n",
    "        if arg==[]:\n",
    "            pass            #   return print(\"I don't work with empty arrays\")\n",
    "        else:\n",
    "            return func(arg)\n",
    "    return wrapper\n",
    "\n",
    "@check_empty\n",
    "def print_array(arr):\n",
    "    '''I print arrays'''\n",
    "    print(arr)\n",
    "\n",
    "if __name__==\"__main__\":\n",
    "    l=[1,2,3]\n",
    "    m=[]\n",
    "    print_array(l)\n",
    "    print_array(m)"
   ]
  },
  {
   "cell_type": "code",
   "execution_count": 40,
   "metadata": {
    "tags": []
   },
   "outputs": [
    {
     "name": "stdout",
     "output_type": "stream",
     "text": [
      "[1, 2, 4]\n"
     ]
    }
   ],
   "source": [
    "import functools\n",
    "import numpy as np\n",
    "import sympy as sp\n",
    "\n",
    "def decor(func):\n",
    "    @functools.wraps(func)\n",
    "    def wrapper(array):\n",
    "        if array==[]:\n",
    "            return (\"array is empty\")\n",
    "        else:\n",
    "            return func(array)\n",
    "    return wrapper\n",
    "\n",
    "@decor\n",
    "def print_array(arr):\n",
    "    '''I print arrays'''\n",
    "    print(arr)\n",
    "if __name__==\"__main__\":\n",
    "    l=[1,2,4]\n",
    "    m=[]\n",
    "    print_array(l)\n",
    "    print_array(m)"
   ]
  },
  {
   "cell_type": "code",
   "execution_count": null,
   "metadata": {},
   "outputs": [],
   "source": []
  },
  {
   "cell_type": "code",
   "execution_count": 34,
   "metadata": {
    "tags": []
   },
   "outputs": [
    {
     "name": "stdout",
     "output_type": "stream",
     "text": [
      "Function execution time:  3.0072062015533447\n",
      "Function execution time:  0.0\n",
      "Dot product:  32\n"
     ]
    }
   ],
   "source": [
    "import time \n",
    "\n",
    "def time_decorator(func):\n",
    "    def wrapper(*args, **kwargs):\n",
    "        time_point = time.time()\n",
    "        output = func(*args, **kwargs)\n",
    "        print(\"Function execution time: \", time.time() - time_point)\n",
    "        return output\n",
    "    return wrapper\n",
    "    \n",
    "\n",
    "@time_decorator\n",
    "def sleep():\n",
    "    time.sleep(3)\n",
    "\n",
    "@time_decorator\n",
    "def dot_product(a, b):\n",
    "    return sum([a[i]*b[i] for i in range(len(a))])\n",
    "\n",
    "if __name__ == \"__main__\":\n",
    "\n",
    "    sleep()\n",
    "\n",
    "    a = [1, 2, 3]\n",
    "    b = [4, 5, 6]\n",
    "    c = dot_product(a, b)\n",
    "\n",
    "    print('Dot product: ', c)"
   ]
  },
  {
   "cell_type": "code",
   "execution_count": 35,
   "metadata": {
    "tags": []
   },
   "outputs": [
    {
     "data": {
      "image/png": "[encoded data removed]",
      "text/plain": [
       "<Figure size 800x600 with 1 Axes>"
      ]
     },
     "metadata": {},
     "output_type": "display_data"
    },
    {
     "data": {
      "text/plain": [
       "0.8414709848078965"
      ]
     },
     "execution_count": 35,
     "metadata": {},
     "output_type": "execute_result"
    }
   ],
   "source": [
    "import numpy as np\n",
    "import matplotlib.pyplot as plt\n",
    "\n",
    "def plot_decorator(func):\n",
    "    def wrapper(*args, **kwargs):\n",
    "        # Generate 100 points between 1 and 10\n",
    "        x = np.linspace(1, 10, 100)\n",
    "        y = func(x)\n",
    "\n",
    "        # Plotting\n",
    "        plt.figure(figsize=(8, 6), facecolor='yellow')\n",
    "        plt.plot(x, y, color='green')\n",
    "        plt.title(f\"Plot of {func.__name__}\")\n",
    "        plt.xlabel('x')\n",
    "        plt.ylabel(f'{func.__name__}(x)')\n",
    "        plt.grid(True)\n",
    "        plt.show()\n",
    "\n",
    "        return func(*args, **kwargs)\n",
    "    return wrapper\n",
    "\n",
    "# Example usage\n",
    "@plot_decorator\n",
    "def my_function(x):\n",
    "    return np.sin(x)\n",
    "\n",
    "# Call the decorated function\n",
    "my_function(1)\n",
    " "
   ]
  },
  {
   "cell_type": "code",
   "execution_count": 38,
   "metadata": {
    "tags": []
   },
   "outputs": [
    {
     "data": {
      "image/png": "[encoded data removed]",
      "text/plain": [
       "<Figure size 800x600 with 1 Axes>"
      ]
     },
     "metadata": {},
     "output_type": "display_data"
    },
    {
     "data": {
      "text/plain": [
       "0.8414709848078965"
      ]
     },
     "execution_count": 38,
     "metadata": {},
     "output_type": "execute_result"
    }
   ],
   "source": [
    "import numpy as np\n",
    "import matplotlib.pyplot as plt\n",
    "\n",
    "def plot_decorator(func):\n",
    "    def wrapper(*args, **kwargs):\n",
    "        # Generate 100 points between 1 and 10\n",
    "        x = np.linspace(1, 10, 100)\n",
    "        y = func(x)\n",
    "\n",
    "        # Create a figure and axis object\n",
    "        fig, ax = plt.subplots(figsize=(8, 6))\n",
    "        fig.patch.set_facecolor('yellow')  # Set the background color of the figure\n",
    "\n",
    "        # Plotting using the ax interface\n",
    "        ax.plot(x, y, color='green')\n",
    "        ax.set_title(f\"Plot of {func.__name__}\")\n",
    "        ax.set_xlabel('x')\n",
    "        ax.set_ylabel(f'{func.__name__}(x)')\n",
    "        ax.grid(True)\n",
    "\n",
    "        # Display the plot\n",
    "        plt.show()\n",
    "\n",
    "        return func(*args, **kwargs)\n",
    "    return wrapper\n",
    "\n",
    "# Example usage\n",
    "@plot_decorator\n",
    "def my_function(x):\n",
    "    return np.sin(x)\n",
    "\n",
    "# Call the decorated function\n",
    "my_function(1)\n",
    " "
   ]
  },
  {
   "cell_type": "code",
   "execution_count": null,
   "metadata": {},
   "outputs": [],
   "source": []
  }
 ],
 "metadata": {
  "kernelspec": {
   "display_name": "Python 3 (ipykernel)",
   "language": "python",
   "name": "python3"
  },
  "language_info": {
   "codemirror_mode": {
    "name": "ipython",
    "version": 3
   },
   "file_extension": ".py",
   "mimetype": "text/x-python",
   "name": "python",
   "nbconvert_exporter": "python",
   "pygments_lexer": "ipython3",
   "version": "3.11.5"
  }
 },
 "nbformat": 4,
 "nbformat_minor": 4
}
